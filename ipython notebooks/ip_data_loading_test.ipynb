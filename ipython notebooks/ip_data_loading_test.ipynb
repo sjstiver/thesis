{
 "cells": [
  {
   "cell_type": "code",
   "execution_count": 1,
   "metadata": {},
   "outputs": [],
   "source": [
    "from load_ip_data import load_ip_data"
   ]
  },
  {
   "cell_type": "code",
   "execution_count": 2,
   "metadata": {},
   "outputs": [
    {
     "name": "stdout",
     "output_type": "stream",
     "text": [
      "Sample number for class 1 reduced to 46\n"
     ]
    }
   ],
   "source": [
    "data, labels = load_ip_data([1, 2, 3])"
   ]
  },
  {
   "cell_type": "code",
   "execution_count": 3,
   "metadata": {},
   "outputs": [
    {
     "name": "stdout",
     "output_type": "stream",
     "text": [
      "Sample number for class 1 reduced to 46\n"
     ]
    }
   ],
   "source": [
    "data, labels = load_ip_data([1])"
   ]
  },
  {
   "cell_type": "code",
   "execution_count": 4,
   "metadata": {},
   "outputs": [
    {
     "name": "stdout",
     "output_type": "stream",
     "text": [
      "Sample number for class 1 reduced to 46\n"
     ]
    }
   ],
   "source": [
    "data, labels = load_ip_data(1)"
   ]
  },
  {
   "cell_type": "code",
   "execution_count": 5,
   "metadata": {},
   "outputs": [
    {
     "name": "stdout",
     "output_type": "stream",
     "text": [
      "Sample number for class 1 reduced to 46\n"
     ]
    }
   ],
   "source": [
    "data, labels = load_ip_data([1, 2], sample_size = [50, 500])"
   ]
  },
  {
   "cell_type": "code",
   "execution_count": 6,
   "metadata": {},
   "outputs": [
    {
     "name": "stdout",
     "output_type": "stream",
     "text": [
      "Sample number for class 1 reduced to 46\n",
      "Sample number for class 2 reduced to 1428\n"
     ]
    }
   ],
   "source": [
    "data, labels = load_ip_data([1, 2], sample_size = [50, 5000], fix=False)"
   ]
  },
  {
   "cell_type": "code",
   "execution_count": 7,
   "metadata": {},
   "outputs": [
    {
     "name": "stdout",
     "output_type": "stream",
     "text": [
      "Incorrect number of sample sizes given.\n"
     ]
    }
   ],
   "source": [
    "data, labels = load_ip_data([1], sample_size = [50, 5000], fix=False)"
   ]
  }
 ],
 "metadata": {
  "kernelspec": {
   "display_name": "Python 3",
   "language": "python",
   "name": "python3"
  },
  "language_info": {
   "codemirror_mode": {
    "name": "ipython",
    "version": 3
   },
   "file_extension": ".py",
   "mimetype": "text/x-python",
   "name": "python",
   "nbconvert_exporter": "python",
   "pygments_lexer": "ipython3",
   "version": "3.6.6"
  }
 },
 "nbformat": 4,
 "nbformat_minor": 2
}
