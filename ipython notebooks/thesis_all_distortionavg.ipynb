{
 "cells": [
  {
   "cell_type": "code",
   "execution_count": 1,
   "metadata": {},
   "outputs": [],
   "source": [
    "import numpy as np"
   ]
  },
  {
   "cell_type": "markdown",
   "metadata": {},
   "source": [
    "#### MNIST 3-class"
   ]
  },
  {
   "cell_type": "markdown",
   "metadata": {},
   "source": [
    "5 trials, 3 classes with either 3 or 6 centers, eps=default, 500 randomly selected points from train data/class, subspaces in Gr(5,784)"
   ]
  },
  {
   "cell_type": "code",
   "execution_count": 2,
   "metadata": {},
   "outputs": [],
   "source": [
    "kmeans_distortion_error_3center = [886.2659, 870.2144, 867.5750, 864.7676, 882.3353]\n",
    "lbg_distortion_error_3center = [862.6431, 898.3039, 895.0528, 855.9889, 902.0499]\n",
    "kmeans_distortion_error_6center = [871.9603, 857.4426, 850.3785, 850.8439, 852.2989]\n",
    "lbg_distortion_error_6center = [838.0023, 833.5990, 834.5098, 834.0976, 833.9920]"
   ]
  },
  {
   "cell_type": "code",
   "execution_count": 3,
   "metadata": {},
   "outputs": [],
   "source": [
    "kmeans_iterations_3center = [100, 100, 100, 100, 100]\n",
    "lbg_iterations_3center = [3, 5, 7, 3, 4]\n",
    "kmenas_iterations_6center = [100, 100, 100, 100, 100]\n",
    "lbg_iterations_6center = [6, 7, 7, 5, 6]"
   ]
  },
  {
   "cell_type": "code",
   "execution_count": 4,
   "metadata": {},
   "outputs": [
    {
     "name": "stdout",
     "output_type": "stream",
     "text": [
      "874.2316 +\\- 8.4913\n"
     ]
    }
   ],
   "source": [
    "print('%.4f +\\- %.4f'%(np.mean(kmeans_distortion_error_3center), np.std(kmeans_distortion_error_3center)))"
   ]
  },
  {
   "cell_type": "code",
   "execution_count": 5,
   "metadata": {},
   "outputs": [
    {
     "name": "stdout",
     "output_type": "stream",
     "text": [
      "882.8077 +\\- 19.4226\n"
     ]
    }
   ],
   "source": [
    "print('%.4f +\\- %.4f'%(np.mean(lbg_distortion_error_3center), np.std(lbg_distortion_error_3center)))"
   ]
  },
  {
   "cell_type": "code",
   "execution_count": 6,
   "metadata": {},
   "outputs": [
    {
     "name": "stdout",
     "output_type": "stream",
     "text": [
      "856.5848 +\\- 8.0869\n"
     ]
    }
   ],
   "source": [
    "print('%.4f +\\- %.4f'%(np.mean(kmeans_distortion_error_6center), np.std(kmeans_distortion_error_6center)))"
   ]
  },
  {
   "cell_type": "code",
   "execution_count": 7,
   "metadata": {},
   "outputs": [
    {
     "name": "stdout",
     "output_type": "stream",
     "text": [
      "834.8401 +\\- 1.6075\n"
     ]
    }
   ],
   "source": [
    "print('%.4f +\\- %.4f'%(np.mean(lbg_distortion_error_6center), np.std(lbg_distortion_error_6center)))"
   ]
  },
  {
   "cell_type": "markdown",
   "metadata": {},
   "source": [
    "#### MNIST All"
   ]
  },
  {
   "cell_type": "markdown",
   "metadata": {},
   "source": [
    "5 trials, 10 class with 10 centers, 100 max iterations, eps=default\n",
    "500 pts randomly selected from train data for each class, then made into subspaces in Gr(5,784)"
   ]
  },
  {
   "cell_type": "code",
   "execution_count": 8,
   "metadata": {},
   "outputs": [],
   "source": [
    "lbg_distortion_error = [2837.3138, 2871.9147, 2872.1329, 2821.0177, 2868.1863]\n",
    "kmeans_distortion_error = [ 2938.8924, 2877.4438, 2914.4582, 2930.1682, 2929.3275]"
   ]
  },
  {
   "cell_type": "code",
   "execution_count": 9,
   "metadata": {},
   "outputs": [],
   "source": [
    "lbg_iterations = [19, 7, 8, 14, 9 ]\n",
    "kmeans_iterations = [100, 100, 100, 100, 100]"
   ]
  },
  {
   "cell_type": "code",
   "execution_count": 10,
   "metadata": {},
   "outputs": [
    {
     "name": "stdout",
     "output_type": "stream",
     "text": [
      "2854.1131 +\\- 21.0580\n"
     ]
    }
   ],
   "source": [
    "print('%.4f +\\- %.4f'%(np.mean(lbg_distortion_error), np.std(lbg_distortion_error)))"
   ]
  },
  {
   "cell_type": "code",
   "execution_count": 11,
   "metadata": {},
   "outputs": [
    {
     "name": "stdout",
     "output_type": "stream",
     "text": [
      "2918.0580 +\\- 21.7725\n"
     ]
    }
   ],
   "source": [
    "print('%.4f +\\- %.4f'%(np.mean(kmeans_distortion_error), np.std(kmeans_distortion_error)))"
   ]
  },
  {
   "cell_type": "markdown",
   "metadata": {},
   "source": [
    "#### IP - Pasture/trees"
   ]
  },
  {
   "cell_type": "markdown",
   "metadata": {},
   "source": [
    "All data from Indian pines classes 5 and 6; with 2, 4, or 6 centers; in Gr(5, 200) or Gr(10,200)"
   ]
  },
  {
   "cell_type": "code",
   "execution_count": 12,
   "metadata": {},
   "outputs": [],
   "source": [
    "kmeans_distortion_error_dim5_2center = [493.0636, 493.3891, 488.9866, 494.5067, 489.5919]\n",
    "lbg_distortion_error_dim5_2center = [478.5760, 478.5739, 478.5607, 478.5739, 478.5760]\n",
    "kmeans_distortion_error_dim5_4center = [468.4966, 464.3182, 466.3471, 462.3944, 461.3793]\n",
    "lbg_distortion_error_dim5_4center = [450.3194, 447.1540, 449.3090, 456.8848, 456.3134]\n",
    "kmeans_distortion_error_dim5_6center = [446.3791, 461.7461, 448.1154, 453.3328, 449.9088]\n",
    "lbg_distortion_error_dim5_6center = [441.3209, 436.0126, 427.6814, 432.7849, 432.2325]\n",
    "kmeans_distortion_error_dim10_2center = [449.3100, 449.3100, 449.8179, 447.0231, 449.3100]\n",
    "lbg_distortion_error_dim10_2center = [435.9752, 435.9752, 435.9752, 435.9752, 435.9752]\n",
    "kmeans_distortion_error_dim10_4center = [437.9995, 438.3321, 440.3227, 438.9971, 439.4099]\n",
    "lbg_distortion_error_dim10_4center = [420.8151, 417.0425, 422.2646, 419.4305, 422.3002]"
   ]
  },
  {
   "cell_type": "code",
   "execution_count": 13,
   "metadata": {},
   "outputs": [],
   "source": [
    "kmeans_iterations_dim5_2center = [100, 100, 100, 100, 100]\n",
    "lbg_iterations_dim5_2center = [6, 3, 4, 4, 5]\n",
    "kmeans_iterations_dim5_4center = [100, 100, 100, 100, 100]\n",
    "lbg_iterations_dim5_4center = [9, 11, 10, 6, 7]\n",
    "kmeans_iterations_dim5_6center = [100, 100, 100, 100, 100]\n",
    "lbg_iterations_dim5_6center = [9, 6, 12, 11, 8]\n",
    "kmeans_iterations_dim10_2center = [100, 100, 100, 100, 100]\n",
    "lbg_iterations_dim10_2center = [4, 4, 4, 3, 3]\n",
    "kmeans_iterations_dim10_4center = [100, 100, 100, 100, 100]\n",
    "lbg_iterations_dim10_4center = [4, 5, 4, 3, 3]"
   ]
  },
  {
   "cell_type": "code",
   "execution_count": 14,
   "metadata": {},
   "outputs": [
    {
     "name": "stdout",
     "output_type": "stream",
     "text": [
      "491.9076 +\\- 21.7725\n"
     ]
    }
   ],
   "source": [
    "print('%.4f +\\- %.4f'%(np.mean(kmeans_distortion_error_dim5_2center), np.std(kmeans_distortion_error)))"
   ]
  },
  {
   "cell_type": "code",
   "execution_count": 15,
   "metadata": {},
   "outputs": [
    {
     "name": "stdout",
     "output_type": "stream",
     "text": [
      "478.5721 +\\- 21.7725\n"
     ]
    }
   ],
   "source": [
    "print('%.4f +\\- %.4f'%(np.mean(lbg_distortion_error_dim5_2center), np.std(kmeans_distortion_error)))"
   ]
  },
  {
   "cell_type": "code",
   "execution_count": 16,
   "metadata": {},
   "outputs": [
    {
     "name": "stdout",
     "output_type": "stream",
     "text": [
      "464.5871 +\\- 21.7725\n"
     ]
    }
   ],
   "source": [
    "print('%.4f +\\- %.4f'%(np.mean(kmeans_distortion_error_dim5_4center), np.std(kmeans_distortion_error)))"
   ]
  },
  {
   "cell_type": "code",
   "execution_count": 17,
   "metadata": {},
   "outputs": [
    {
     "name": "stdout",
     "output_type": "stream",
     "text": [
      "451.9961 +\\- 21.7725\n"
     ]
    }
   ],
   "source": [
    "print('%.4f +\\- %.4f'%(np.mean(lbg_distortion_error_dim5_4center), np.std(kmeans_distortion_error)))"
   ]
  },
  {
   "cell_type": "code",
   "execution_count": 18,
   "metadata": {},
   "outputs": [
    {
     "name": "stdout",
     "output_type": "stream",
     "text": [
      "451.8964 +\\- 21.7725\n"
     ]
    }
   ],
   "source": [
    "print('%.4f +\\- %.4f'%(np.mean(kmeans_distortion_error_dim5_6center), np.std(kmeans_distortion_error)))"
   ]
  },
  {
   "cell_type": "code",
   "execution_count": 19,
   "metadata": {},
   "outputs": [
    {
     "name": "stdout",
     "output_type": "stream",
     "text": [
      "434.0065 +\\- 21.7725\n"
     ]
    }
   ],
   "source": [
    "print('%.4f +\\- %.4f'%(np.mean(lbg_distortion_error_dim5_6center), np.std(kmeans_distortion_error)))"
   ]
  },
  {
   "cell_type": "code",
   "execution_count": 20,
   "metadata": {},
   "outputs": [
    {
     "name": "stdout",
     "output_type": "stream",
     "text": [
      "448.9542 +\\- 21.7725\n"
     ]
    }
   ],
   "source": [
    "print('%.4f +\\- %.4f'%(np.mean(kmeans_distortion_error_dim10_2center), np.std(kmeans_distortion_error)))"
   ]
  },
  {
   "cell_type": "code",
   "execution_count": 21,
   "metadata": {},
   "outputs": [
    {
     "name": "stdout",
     "output_type": "stream",
     "text": [
      "435.9752 +\\- 21.7725\n"
     ]
    }
   ],
   "source": [
    "print('%.4f +\\- %.4f'%(np.mean(lbg_distortion_error_dim10_2center), np.std(kmeans_distortion_error)))"
   ]
  },
  {
   "cell_type": "code",
   "execution_count": 22,
   "metadata": {},
   "outputs": [
    {
     "name": "stdout",
     "output_type": "stream",
     "text": [
      "439.0123 +\\- 21.7725\n"
     ]
    }
   ],
   "source": [
    "print('%.4f +\\- %.4f'%(np.mean(kmeans_distortion_error_dim10_4center), np.std(kmeans_distortion_error)))"
   ]
  },
  {
   "cell_type": "code",
   "execution_count": 23,
   "metadata": {},
   "outputs": [
    {
     "name": "stdout",
     "output_type": "stream",
     "text": [
      "420.3706 +\\- 21.7725\n"
     ]
    }
   ],
   "source": [
    "print('%.4f +\\- %.4f'%(np.mean(lbg_distortion_error_dim10_4center), np.std(kmeans_distortion_error)))"
   ]
  },
  {
   "cell_type": "markdown",
   "metadata": {},
   "source": [
    "#### IP - Corn/ Alfalfa"
   ]
  },
  {
   "cell_type": "markdown",
   "metadata": {},
   "source": [
    "All data from Indian pines classes 1 and 4; with 2, 4, or 6 centers; in Gr(5, 200)"
   ]
  },
  {
   "cell_type": "code",
   "execution_count": 24,
   "metadata": {},
   "outputs": [],
   "source": [
    "kmeans_distortion_error_dim5_2center = [114.5432, 114.5432, 114.5432, 114.5432, 114.5432]\n",
    "lbg_distortion_error_dim5_2center = [107.3806, 107.3806, 110.6087, 109.8473, 107.8008]\n",
    "lbg_distortion_error_dim5_4center = [99.9680, 98.7917, 104.8717, 102.8925, 99.2973]\n",
    "lbg_distortion_error_dim5_6center = [93.3571, 89.8683, 91.2456, 92.4161, 93.5277]"
   ]
  },
  {
   "cell_type": "code",
   "execution_count": 25,
   "metadata": {},
   "outputs": [],
   "source": [
    "kmeans_iterations_dim5_2center = [100, 100, 100, 100, 100]\n",
    "lbg_iterations_dim5_2center = [3, 2, 3, 4, 4]\n",
    "lbg_iterations_dim5_4center = [12, 3, 3, 5, 5]\n",
    "lbg_iterations_dim5_6center = [3, 4, 6, 3, 3]"
   ]
  },
  {
   "cell_type": "code",
   "execution_count": 26,
   "metadata": {},
   "outputs": [
    {
     "name": "stdout",
     "output_type": "stream",
     "text": [
      "114.5432 +\\- 21.7725\n"
     ]
    }
   ],
   "source": [
    "print('%.4f +\\- %.4f'%(np.mean(kmeans_distortion_error_dim5_2center), np.std(kmeans_distortion_error)))"
   ]
  },
  {
   "cell_type": "code",
   "execution_count": 27,
   "metadata": {},
   "outputs": [
    {
     "name": "stdout",
     "output_type": "stream",
     "text": [
      "108.6036 +\\- 21.7725\n"
     ]
    }
   ],
   "source": [
    "print('%.4f +\\- %.4f'%(np.mean(lbg_distortion_error_dim5_2center), np.std(kmeans_distortion_error)))"
   ]
  },
  {
   "cell_type": "code",
   "execution_count": 28,
   "metadata": {},
   "outputs": [
    {
     "name": "stdout",
     "output_type": "stream",
     "text": [
      "101.1642 +\\- 21.7725\n"
     ]
    }
   ],
   "source": [
    "print('%.4f +\\- %.4f'%(np.mean(lbg_distortion_error_dim5_4center), np.std(kmeans_distortion_error)))"
   ]
  },
  {
   "cell_type": "code",
   "execution_count": 29,
   "metadata": {},
   "outputs": [
    {
     "name": "stdout",
     "output_type": "stream",
     "text": [
      "92.0830 +\\- 21.7725\n"
     ]
    }
   ],
   "source": [
    "print('%.4f +\\- %.4f'%(np.mean(lbg_distortion_error_dim5_6center), np.std(kmeans_distortion_error)))"
   ]
  }
 ],
 "metadata": {
  "kernelspec": {
   "display_name": "Python 3",
   "language": "python",
   "name": "python3"
  },
  "language_info": {
   "codemirror_mode": {
    "name": "ipython",
    "version": 3
   },
   "file_extension": ".py",
   "mimetype": "text/x-python",
   "name": "python",
   "nbconvert_exporter": "python",
   "pygments_lexer": "ipython3",
   "version": "3.6.6"
  }
 },
 "nbformat": 4,
 "nbformat_minor": 2
}
