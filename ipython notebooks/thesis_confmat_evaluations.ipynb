{
 "cells": [
  {
   "cell_type": "code",
   "execution_count": 1,
   "metadata": {},
   "outputs": [],
   "source": [
    "import numpy as np\n",
    "from evaluation import evaluate_conf_mat as eval"
   ]
  },
  {
   "cell_type": "markdown",
   "metadata": {},
   "source": [
    "### MNIST 3 - class trials"
   ]
  },
  {
   "cell_type": "markdown",
   "metadata": {},
   "source": [
    "##### Gr(5,784), 3 centers"
   ]
  },
  {
   "cell_type": "markdown",
   "metadata": {},
   "source": [
    "K-means:\n",
    "\n",
    "Trial 1 - perfect classification\n",
    "\n",
    "Trial 3 - perfect classification\n",
    "\n",
    "Trial 4 - perfect classification"
   ]
  },
  {
   "cell_type": "code",
   "execution_count": 2,
   "metadata": {},
   "outputs": [
    {
     "name": "stdout",
     "output_type": "stream",
     "text": [
      "Cluster purity calculations:\n",
      "Average cluster purity: 0.9935 +/- 0.0001 \n",
      "Classification accuracy based on highest probability labels:\n",
      "Accuracy: 0.9933\n",
      "Classification BSR based on highest probability labels:\n",
      "BSR: 0.9935\n"
     ]
    }
   ],
   "source": [
    "# trial 2\n",
    "cmat = np.array([[100, 2, 0],\n",
    "        [0, 98, 0],\n",
    "       [0, 0, 100]])\n",
    "c = eval(cmat)"
   ]
  },
  {
   "cell_type": "code",
   "execution_count": 3,
   "metadata": {},
   "outputs": [
    {
     "name": "stdout",
     "output_type": "stream",
     "text": [
      "Cluster purity calculations:\n",
      "Average cluster purity: 0.9903 +/- 0.0002 \n",
      "Classification accuracy based on highest probability labels:\n",
      "Accuracy: 0.9900\n",
      "Classification BSR based on highest probability labels:\n",
      "BSR: 0.9903\n"
     ]
    }
   ],
   "source": [
    "# trial 5\n",
    "cmat = np.array([[100, 0, 0],\n",
    "        [0, 97, 0],\n",
    "       [0, 3, 100]])\n",
    "c = eval(cmat)"
   ]
  },
  {
   "cell_type": "markdown",
   "metadata": {},
   "source": [
    "LBG: \n",
    "\n",
    "Trial 1 - perfect classification\n",
    "\n",
    "Trial 4 - perfect classification"
   ]
  },
  {
   "cell_type": "code",
   "execution_count": 4,
   "metadata": {},
   "outputs": [
    {
     "name": "stdout",
     "output_type": "stream",
     "text": [
      "Cluster purity calculations:\n",
      "Average cluster purity: 0.8333 +/- 0.0556 \n",
      "Classification accuracy based on highest probability labels:\n",
      "Accuracy: 0.6667\n",
      "Classification BSR based on highest probability labels:\n",
      "BSR: 0.8333\n"
     ]
    }
   ],
   "source": [
    "# trial 2\n",
    "cmat = np.array([[0, 0, 62],\n",
    "        [0, 0, 38],\n",
    "       [100, 100, 0]])\n",
    "c = eval(cmat)"
   ]
  },
  {
   "cell_type": "code",
   "execution_count": 5,
   "metadata": {},
   "outputs": [
    {
     "name": "stdout",
     "output_type": "stream",
     "text": [
      "Cluster purity calculations:\n",
      "Average cluster purity: 0.8333 +/- 0.0556 \n",
      "Classification accuracy based on highest probability labels:\n",
      "Accuracy: 0.6667\n",
      "Classification BSR based on highest probability labels:\n",
      "BSR: 0.8333\n"
     ]
    }
   ],
   "source": [
    "# trial 2\n",
    "cmat = np.array([[0, 0, 51],\n",
    "        [100, 100, 0],\n",
    "       [0, 0, 49]])\n",
    "c = eval(cmat)"
   ]
  },
  {
   "cell_type": "code",
   "execution_count": 6,
   "metadata": {},
   "outputs": [
    {
     "name": "stdout",
     "output_type": "stream",
     "text": [
      "Cluster purity calculations:\n",
      "Average cluster purity: 0.6887 +/- 0.0460 \n",
      "Classification accuracy based on highest probability labels:\n",
      "Accuracy: 0.6633\n",
      "Classification BSR based on highest probability labels:\n",
      "BSR: 0.6887\n"
     ]
    }
   ],
   "source": [
    "# trial 5\n",
    "cmat = np.array([[1, 2, 4],\n",
    "        [99, 97, 0],\n",
    "       [0, 1, 96]])\n",
    "c = eval(cmat)"
   ]
  },
  {
   "cell_type": "markdown",
   "metadata": {},
   "source": [
    "##### Gr(5,784), 6 centers"
   ]
  },
  {
   "cell_type": "markdown",
   "metadata": {},
   "source": [
    "K-means:\n",
    "    \n",
    "Trial 1 - perfect classification\n",
    "\n",
    "Trial 2 - perfect classification\n",
    "\n",
    "Trial 3 - perfect classification\n",
    "\n",
    "Trial 4 - perfect classification\n",
    "\n",
    "Trial 5 - perfect classification"
   ]
  },
  {
   "cell_type": "markdown",
   "metadata": {},
   "source": [
    "LBG: \n",
    "\n",
    "Trial 1 - perfect classification\n",
    "\n",
    "Trial 2 - perfect classification\n",
    "\n",
    "Trial 3 - perfect classification\n",
    "\n",
    "Trial 4 - perfect classification\n",
    "\n",
    "Trial 5 - perfect classification"
   ]
  },
  {
   "cell_type": "markdown",
   "metadata": {},
   "source": [
    "### IP Pasture/Trees"
   ]
  },
  {
   "cell_type": "markdown",
   "metadata": {},
   "source": [
    "##### Gr(5,200), 2 centers"
   ]
  },
  {
   "cell_type": "markdown",
   "metadata": {},
   "source": [
    "K-means:"
   ]
  },
  {
   "cell_type": "code",
   "execution_count": 7,
   "metadata": {},
   "outputs": [
    {
     "name": "stdout",
     "output_type": "stream",
     "text": [
      "Cluster purity calculations:\n",
      "Average cluster purity: 0.9879 +/- 0.0000 \n",
      "Classification accuracy based on highest probability labels:\n",
      "Accuracy: 0.9876\n",
      "Classification BSR based on highest probability labels:\n",
      "BSR: 0.9879\n"
     ]
    }
   ],
   "source": [
    "# trial 1\n",
    "cmat = np.array([[94, 1],\n",
    "                [2, 145]])\n",
    "c = eval(cmat)"
   ]
  },
  {
   "cell_type": "code",
   "execution_count": 8,
   "metadata": {},
   "outputs": [
    {
     "name": "stdout",
     "output_type": "stream",
     "text": [
      "Cluster purity calculations:\n",
      "Average cluster purity: 0.9932 +/- 0.0000 \n",
      "Classification accuracy based on highest probability labels:\n",
      "Accuracy: 0.9917\n",
      "Classification BSR based on highest probability labels:\n",
      "BSR: 0.9932\n"
     ]
    }
   ],
   "source": [
    "# trial 2\n",
    "cmat = np.array([[2, 146],\n",
    "                [94, 0]])\n",
    "c = eval(cmat)"
   ]
  },
  {
   "cell_type": "code",
   "execution_count": 9,
   "metadata": {},
   "outputs": [
    {
     "name": "stdout",
     "output_type": "stream",
     "text": [
      "Cluster purity calculations:\n",
      "Average cluster purity: 0.9932 +/- 0.0000 \n",
      "Classification accuracy based on highest probability labels:\n",
      "Accuracy: 0.9917\n",
      "Classification BSR based on highest probability labels:\n",
      "BSR: 0.9932\n"
     ]
    }
   ],
   "source": [
    "# trial 3\n",
    "cmat = np.array([[2, 146],\n",
    "                [94, 0]])\n",
    "c = eval(cmat)"
   ]
  },
  {
   "cell_type": "code",
   "execution_count": 10,
   "metadata": {},
   "outputs": [
    {
     "name": "stdout",
     "output_type": "stream",
     "text": [
      "Cluster purity calculations:\n",
      "Average cluster purity: 0.9812 +/- 0.0001 \n",
      "Classification accuracy based on highest probability labels:\n",
      "Accuracy: 0.9793\n",
      "Classification BSR based on highest probability labels:\n",
      "BSR: 0.9812\n"
     ]
    }
   ],
   "source": [
    "# trial 4\n",
    "cmat = np.array([[4, 145],\n",
    "                [92, 1]])\n",
    "c = eval(cmat)"
   ]
  },
  {
   "cell_type": "code",
   "execution_count": 11,
   "metadata": {},
   "outputs": [
    {
     "name": "stdout",
     "output_type": "stream",
     "text": [
      "Cluster purity calculations:\n",
      "Average cluster purity: 0.9879 +/- 0.0000 \n",
      "Classification accuracy based on highest probability labels:\n",
      "Accuracy: 0.9876\n",
      "Classification BSR based on highest probability labels:\n",
      "BSR: 0.9879\n"
     ]
    }
   ],
   "source": [
    "# trial 5\n",
    "cmat = np.array([[94, 1],\n",
    "                [2, 145]])\n",
    "c = eval(cmat)"
   ]
  },
  {
   "cell_type": "markdown",
   "metadata": {},
   "source": [
    "LBG: "
   ]
  },
  {
   "cell_type": "code",
   "execution_count": 12,
   "metadata": {},
   "outputs": [
    {
     "name": "stdout",
     "output_type": "stream",
     "text": [
      "Cluster purity calculations:\n",
      "Average cluster purity: 0.9845 +/- 0.0000 \n",
      "Classification accuracy based on highest probability labels:\n",
      "Accuracy: 0.9835\n",
      "Classification BSR based on highest probability labels:\n",
      "BSR: 0.9845\n"
     ]
    }
   ],
   "source": [
    "# trial 1\n",
    "cmat = np.array([[3, 145],\n",
    "                [93, 1]])\n",
    "c = eval(cmat)"
   ]
  },
  {
   "cell_type": "code",
   "execution_count": 13,
   "metadata": {},
   "outputs": [
    {
     "name": "stdout",
     "output_type": "stream",
     "text": [
      "Cluster purity calculations:\n",
      "Average cluster purity: 0.9879 +/- 0.0000 \n",
      "Classification accuracy based on highest probability labels:\n",
      "Accuracy: 0.9876\n",
      "Classification BSR based on highest probability labels:\n",
      "BSR: 0.9879\n"
     ]
    }
   ],
   "source": [
    "# trial 2\n",
    "cmat = np.array([[2, 145],\n",
    "                [94, 1]])\n",
    "c = eval(cmat)"
   ]
  },
  {
   "cell_type": "code",
   "execution_count": 14,
   "metadata": {},
   "outputs": [
    {
     "name": "stdout",
     "output_type": "stream",
     "text": [
      "Cluster purity calculations:\n",
      "Average cluster purity: 0.9932 +/- 0.0000 \n",
      "Classification accuracy based on highest probability labels:\n",
      "Accuracy: 0.9917\n",
      "Classification BSR based on highest probability labels:\n",
      "BSR: 0.9932\n"
     ]
    }
   ],
   "source": [
    "# trial 3\n",
    "cmat = np.array([[2, 146],\n",
    "                [94, 0]])\n",
    "c = eval(cmat)"
   ]
  },
  {
   "cell_type": "code",
   "execution_count": 15,
   "metadata": {},
   "outputs": [
    {
     "name": "stdout",
     "output_type": "stream",
     "text": [
      "Cluster purity calculations:\n",
      "Average cluster purity: 0.9812 +/- 0.0001 \n",
      "Classification accuracy based on highest probability labels:\n",
      "Accuracy: 0.9793\n",
      "Classification BSR based on highest probability labels:\n",
      "BSR: 0.9812\n"
     ]
    }
   ],
   "source": [
    "# trial 4\n",
    "cmat = np.array([[4, 145],\n",
    "                [92, 1]])\n",
    "c = eval(cmat)"
   ]
  },
  {
   "cell_type": "code",
   "execution_count": 16,
   "metadata": {},
   "outputs": [
    {
     "name": "stdout",
     "output_type": "stream",
     "text": [
      "Cluster purity calculations:\n",
      "Average cluster purity: 0.9845 +/- 0.0000 \n",
      "Classification accuracy based on highest probability labels:\n",
      "Accuracy: 0.9835\n",
      "Classification BSR based on highest probability labels:\n",
      "BSR: 0.9845\n"
     ]
    }
   ],
   "source": [
    "# trial 5\n",
    "cmat = np.array([[93, 1],\n",
    "                [3, 145]])\n",
    "c = eval(cmat)"
   ]
  },
  {
   "cell_type": "markdown",
   "metadata": {},
   "source": [
    "##### Gr(5,200), 4 centers"
   ]
  },
  {
   "cell_type": "markdown",
   "metadata": {},
   "source": [
    "K-means:\n",
    "    "
   ]
  },
  {
   "cell_type": "code",
   "execution_count": 17,
   "metadata": {},
   "outputs": [
    {
     "name": "stdout",
     "output_type": "stream",
     "text": [
      "Cluster purity calculations:\n",
      "Average cluster purity: 0.9781 +/- 0.0014 \n",
      "Classification accuracy based on highest probability labels:\n",
      "Accuracy: 0.9793\n",
      "Classification BSR based on highest probability labels:\n",
      "BSR: 0.9781\n"
     ]
    }
   ],
   "source": [
    "# trial 1\n",
    "cmat = np.array([[0, 64],\n",
    "                [0, 30],\n",
    "                [91, 0],\n",
    "                [5, 52]])\n",
    "c = eval(cmat)"
   ]
  },
  {
   "cell_type": "code",
   "execution_count": 18,
   "metadata": {},
   "outputs": [
    {
     "name": "stdout",
     "output_type": "stream",
     "text": [
      "Cluster purity calculations:\n",
      "Average cluster purity: 0.9905 +/- 0.0001 \n",
      "Classification accuracy based on highest probability labels:\n",
      "Accuracy: 0.9917\n",
      "Classification BSR based on highest probability labels:\n",
      "BSR: 0.9905\n"
     ]
    }
   ],
   "source": [
    "# trial 2\n",
    "cmat = np.array([[41, 1],\n",
    "                [54, 0],\n",
    "                [1, 69],\n",
    "                [0, 76]])\n",
    "c = eval(cmat)"
   ]
  },
  {
   "cell_type": "code",
   "execution_count": 19,
   "metadata": {},
   "outputs": [
    {
     "name": "stdout",
     "output_type": "stream",
     "text": [
      "Cluster purity calculations:\n",
      "Average cluster purity: 0.9850 +/- 0.0007 \n",
      "Classification accuracy based on highest probability labels:\n",
      "Accuracy: 0.9876\n",
      "Classification BSR based on highest probability labels:\n",
      "BSR: 0.9850\n"
     ]
    }
   ],
   "source": [
    "# trial 3\n",
    "cmat = np.array([[93, 0],\n",
    "                [3, 47],\n",
    "                [0, 36],\n",
    "                [0, 63]])\n",
    "c = eval(cmat)"
   ]
  },
  {
   "cell_type": "code",
   "execution_count": 20,
   "metadata": {},
   "outputs": [
    {
     "name": "stdout",
     "output_type": "stream",
     "text": [
      "Cluster purity calculations:\n",
      "Average cluster purity: 0.9962 +/- 0.0000 \n",
      "Classification accuracy based on highest probability labels:\n",
      "Accuracy: 0.9959\n",
      "Classification BSR based on highest probability labels:\n",
      "BSR: 0.9962\n"
     ]
    }
   ],
   "source": [
    "# trial 4\n",
    "cmat = np.array([[29, 0],\n",
    "                [66, 0],\n",
    "                [1, 64],\n",
    "                [0, 82]])\n",
    "c = eval(cmat)"
   ]
  },
  {
   "cell_type": "code",
   "execution_count": 21,
   "metadata": {},
   "outputs": [
    {
     "name": "stdout",
     "output_type": "stream",
     "text": [
      "Cluster purity calculations:\n",
      "Average cluster purity: 0.9964 +/- 0.0000 \n",
      "Classification accuracy based on highest probability labels:\n",
      "Accuracy: 0.9959\n",
      "Classification BSR based on highest probability labels:\n",
      "BSR: 0.9964\n"
     ]
    }
   ],
   "source": [
    "# trial 5\n",
    "cmat = np.array([[64, 0],\n",
    "                [31, 0],\n",
    "                [1, 68],\n",
    "                [0, 78]])\n",
    "c = eval(cmat)"
   ]
  },
  {
   "cell_type": "markdown",
   "metadata": {},
   "source": [
    "LBG: \n"
   ]
  },
  {
   "cell_type": "code",
   "execution_count": 22,
   "metadata": {},
   "outputs": [
    {
     "name": "stdout",
     "output_type": "stream",
     "text": [
      "Cluster purity calculations:\n",
      "Average cluster purity: 0.9901 +/- 0.0001 \n",
      "Classification accuracy based on highest probability labels:\n",
      "Accuracy: 0.9876\n",
      "Classification BSR based on highest probability labels:\n",
      "BSR: 0.9901\n"
     ]
    }
   ],
   "source": [
    "# trial 1\n",
    "cmat = np.array([[52, 0],\n",
    "                [41, 0],\n",
    "                [1, 70],\n",
    "                [2, 76]])\n",
    "c = eval(cmat)"
   ]
  },
  {
   "cell_type": "code",
   "execution_count": 23,
   "metadata": {},
   "outputs": [
    {
     "name": "stdout",
     "output_type": "stream",
     "text": [
      "Cluster purity calculations:\n",
      "Average cluster purity: 0.9908 +/- 0.0001 \n",
      "Classification accuracy based on highest probability labels:\n",
      "Accuracy: 0.9917\n",
      "Classification BSR based on highest probability labels:\n",
      "BSR: 0.9908\n"
     ]
    }
   ],
   "source": [
    "# trial 2\n",
    "cmat = np.array([[57, 0],\n",
    "                [38, 1],\n",
    "                [1, 90],\n",
    "                [0, 55]])\n",
    "c = eval(cmat)"
   ]
  },
  {
   "cell_type": "code",
   "execution_count": 24,
   "metadata": {},
   "outputs": [
    {
     "name": "stdout",
     "output_type": "stream",
     "text": [
      "Cluster purity calculations:\n",
      "Average cluster purity: 0.9874 +/- 0.0002 \n",
      "Classification accuracy based on highest probability labels:\n",
      "Accuracy: 0.9835\n",
      "Classification BSR based on highest probability labels:\n",
      "BSR: 0.9874\n"
     ]
    }
   ],
   "source": [
    "# trial 3\n",
    "cmat = np.array([[61, 1],\n",
    "                [3, 85],\n",
    "                [0, 60],\n",
    "                [32, 0]])\n",
    "c = eval(cmat)"
   ]
  },
  {
   "cell_type": "code",
   "execution_count": 25,
   "metadata": {},
   "outputs": [
    {
     "name": "stdout",
     "output_type": "stream",
     "text": [
      "Cluster purity calculations:\n",
      "Average cluster purity: 0.9337 +/- 0.0123 \n",
      "Classification accuracy based on highest probability labels:\n",
      "Accuracy: 0.9628\n",
      "Classification BSR based on highest probability labels:\n",
      "BSR: 0.9337\n"
     ]
    }
   ],
   "source": [
    "# trial 4\n",
    "cmat = np.array([[32, 0],\n",
    "                [40, 0],\n",
    "                [1, 138],\n",
    "                [23, 8]])\n",
    "c = eval(cmat)"
   ]
  },
  {
   "cell_type": "code",
   "execution_count": 26,
   "metadata": {},
   "outputs": [
    {
     "name": "stdout",
     "output_type": "stream",
     "text": [
      "Cluster purity calculations:\n",
      "Average cluster purity: 0.9922 +/- 0.0001 \n",
      "Classification accuracy based on highest probability labels:\n",
      "Accuracy: 0.9917\n",
      "Classification BSR based on highest probability labels:\n",
      "BSR: 0.9922\n"
     ]
    }
   ],
   "source": [
    "# trial 5\n",
    "cmat = np.array([[21, 0],\n",
    "                [1, 145],\n",
    "                [40, 1],\n",
    "                [34, 0]])\n",
    "c = eval(cmat)"
   ]
  },
  {
   "cell_type": "markdown",
   "metadata": {},
   "source": [
    "##### Gr(5,200), 6 centers"
   ]
  },
  {
   "cell_type": "markdown",
   "metadata": {},
   "source": [
    "K-means:"
   ]
  },
  {
   "cell_type": "code",
   "execution_count": 27,
   "metadata": {},
   "outputs": [
    {
     "name": "stdout",
     "output_type": "stream",
     "text": [
      "Cluster purity calculations:\n",
      "Average cluster purity: 0.9965 +/- 0.0001 \n",
      "Classification accuracy based on highest probability labels:\n",
      "Accuracy: 0.9957\n",
      "Classification BSR based on highest probability labels:\n",
      "BSR: 0.9965\n"
     ]
    }
   ],
   "source": [
    "# trial 1\n",
    "cmat = np.array([[0, 60],\n",
    "                [0, 30],\n",
    "                [0, 1],\n",
    "                [31, 0],\n",
    "                [64, 0],\n",
    "                [1, 46]])\n",
    "c = eval(cmat)"
   ]
  },
  {
   "cell_type": "code",
   "execution_count": 28,
   "metadata": {},
   "outputs": [
    {
     "name": "stdout",
     "output_type": "stream",
     "text": [
      "Cluster purity calculations:\n",
      "Average cluster purity: 0.9921 +/- 0.0003 \n",
      "Classification accuracy based on highest probability labels:\n",
      "Accuracy: 0.9876\n",
      "Classification BSR based on highest probability labels:\n",
      "BSR: 0.9921\n"
     ]
    }
   ],
   "source": [
    "# trial 2\n",
    "cmat = np.array([[0, 48],\n",
    "                [1, 0],\n",
    "                [0, 15],\n",
    "                [0, 23],\n",
    "                [92, 0],\n",
    "                [3, 60]])\n",
    "c = eval(cmat)"
   ]
  },
  {
   "cell_type": "code",
   "execution_count": 29,
   "metadata": {},
   "outputs": [
    {
     "name": "stdout",
     "output_type": "stream",
     "text": [
      "Cluster purity calculations:\n",
      "Average cluster purity: 0.9965 +/- 0.0001 \n",
      "Classification accuracy based on highest probability labels:\n",
      "Accuracy: 0.9959\n",
      "Classification BSR based on highest probability labels:\n",
      "BSR: 0.9965\n"
     ]
    }
   ],
   "source": [
    "# trial 3\n",
    "cmat = np.array([[0, 54],\n",
    "                [1, 47],\n",
    "                [0, 29],\n",
    "                [53, 0],\n",
    "                [0, 16],\n",
    "                [42, 0]])\n",
    "c = eval(cmat)"
   ]
  },
  {
   "cell_type": "code",
   "execution_count": 30,
   "metadata": {},
   "outputs": [
    {
     "name": "stdout",
     "output_type": "stream",
     "text": [
      "Cluster purity calculations:\n",
      "Average cluster purity: 0.9799 +/- 0.0015 \n",
      "Classification accuracy based on highest probability labels:\n",
      "Accuracy: 0.9876\n",
      "Classification BSR based on highest probability labels:\n",
      "BSR: 0.9799\n"
     ]
    }
   ],
   "source": [
    "# trial 4\n",
    "cmat = np.array([[1, 0],\n",
    "                [0, 80],\n",
    "                [17, 2],\n",
    "                [1, 64],\n",
    "                [20, 0],\n",
    "                [57, 0]])\n",
    "c = eval(cmat)"
   ]
  },
  {
   "cell_type": "code",
   "execution_count": 31,
   "metadata": {},
   "outputs": [
    {
     "name": "stdout",
     "output_type": "stream",
     "text": [
      "Cluster purity calculations:\n",
      "Average cluster purity: 0.9923 +/- 0.0001 \n",
      "Classification accuracy based on highest probability labels:\n",
      "Accuracy: 0.9917\n",
      "Classification BSR based on highest probability labels:\n",
      "BSR: 0.9923\n"
     ]
    }
   ],
   "source": [
    "# trial 5\n",
    "cmat = np.array([[1, 72],\n",
    "                [0, 69],\n",
    "                [48, 0],\n",
    "                [17, 0],\n",
    "                [30, 1],\n",
    "                [0, 4]])\n",
    "c = eval(cmat)"
   ]
  },
  {
   "cell_type": "markdown",
   "metadata": {},
   "source": [
    "LBG:\n"
   ]
  },
  {
   "cell_type": "code",
   "execution_count": 32,
   "metadata": {},
   "outputs": [
    {
     "name": "stdout",
     "output_type": "stream",
     "text": [
      "Cluster purity calculations:\n",
      "Average cluster purity: 0.9761 +/- 0.0008 \n",
      "Classification accuracy based on highest probability labels:\n",
      "Accuracy: 0.9793\n",
      "Classification BSR based on highest probability labels:\n",
      "BSR: 0.9761\n"
     ]
    }
   ],
   "source": [
    "# trial 1\n",
    "cmat = np.array([[0, 12],\n",
    "                [0, 28],\n",
    "                [1, 34],\n",
    "                [2, 25],\n",
    "                [91, 0],\n",
    "                [2, 47]])\n",
    "c = eval(cmat)"
   ]
  },
  {
   "cell_type": "code",
   "execution_count": 33,
   "metadata": {},
   "outputs": [
    {
     "name": "stdout",
     "output_type": "stream",
     "text": [
      "Cluster purity calculations:\n",
      "Average cluster purity: 0.9715 +/- 0.0021 \n",
      "Classification accuracy based on highest probability labels:\n",
      "Accuracy: 0.9793\n",
      "Classification BSR based on highest probability labels:\n",
      "BSR: 0.9715\n"
     ]
    }
   ],
   "source": [
    "# trial 2\n",
    "cmat = np.array([[0, 37],\n",
    "                [0, 26],\n",
    "                [1, 19],\n",
    "                [91, 0],\n",
    "                [4, 29],\n",
    "                [0, 35]])\n",
    "c = eval(cmat)"
   ]
  },
  {
   "cell_type": "code",
   "execution_count": 34,
   "metadata": {},
   "outputs": [
    {
     "name": "stdout",
     "output_type": "stream",
     "text": [
      "Cluster purity calculations:\n",
      "Average cluster purity: 0.9911 +/- 0.0002 \n",
      "Classification accuracy based on highest probability labels:\n",
      "Accuracy: 0.9917\n",
      "Classification BSR based on highest probability labels:\n",
      "BSR: 0.9911\n"
     ]
    }
   ],
   "source": [
    "# trial 3\n",
    "cmat = np.array([[62, 0],\n",
    "                [0, 36],\n",
    "                [0, 43],\n",
    "                [33, 1],\n",
    "                [0, 25],\n",
    "                [1, 41]])\n",
    "c = eval(cmat)"
   ]
  },
  {
   "cell_type": "code",
   "execution_count": 35,
   "metadata": {},
   "outputs": [
    {
     "name": "stdout",
     "output_type": "stream",
     "text": [
      "Cluster purity calculations:\n",
      "Average cluster purity: 0.9815 +/- 0.0010 \n",
      "Classification accuracy based on highest probability labels:\n",
      "Accuracy: 0.9876\n",
      "Classification BSR based on highest probability labels:\n",
      "BSR: 0.9815\n"
     ]
    }
   ],
   "source": [
    "# trial 4\n",
    "cmat = np.array([[1, 41],\n",
    "                [56, 0],\n",
    "                [18, 0],\n",
    "                [0, 66],\n",
    "                [0, 37],\n",
    "                [21, 2]])\n",
    "c = eval(cmat)"
   ]
  },
  {
   "cell_type": "code",
   "execution_count": 36,
   "metadata": {},
   "outputs": [
    {
     "name": "stdout",
     "output_type": "stream",
     "text": [
      "Cluster purity calculations:\n",
      "Average cluster purity: 0.9904 +/- 0.0002 \n",
      "Classification accuracy based on highest probability labels:\n",
      "Accuracy: 0.9917\n",
      "Classification BSR based on highest probability labels:\n",
      "BSR: 0.9904\n"
     ]
    }
   ],
   "source": [
    "# trial 5\n",
    "cmat = np.array([[0, 35],\n",
    "                [28, 1],\n",
    "                [31, 0],\n",
    "                [36, 0],\n",
    "                [1, 42],\n",
    "                [0, 68]])\n",
    "c = eval(cmat)"
   ]
  },
  {
   "cell_type": "markdown",
   "metadata": {},
   "source": [
    "##### Gr(10,200), 2 centers"
   ]
  },
  {
   "cell_type": "markdown",
   "metadata": {},
   "source": [
    "K-means:\n",
    "\n",
    "Trial 1 - perfect classification\n",
    "\n",
    "Trial 2 - perfect classification\n",
    "\n",
    "Trial 3 - perfect classification\n",
    "\n",
    "Trial 4 - perfect classification\n",
    "\n",
    "Trial 5 - perfect classification"
   ]
  },
  {
   "cell_type": "markdown",
   "metadata": {},
   "source": [
    "LBG:\n",
    "\n",
    "Trial 1 - perfect classification\n",
    "\n",
    "Trial 4 - perfect classification"
   ]
  },
  {
   "cell_type": "markdown",
   "metadata": {},
   "source": [
    "##### Gr(10,200), 4 centers"
   ]
  },
  {
   "cell_type": "markdown",
   "metadata": {},
   "source": [
    "K-means:\n",
    "\n",
    "Trial 1 - perfect classification\n",
    "\n",
    "Trial 2 - perfect classification\n",
    "\n",
    "Trial 3 - perfect classification\n",
    "\n",
    "Trial 4 - perfect classification\n",
    "\n",
    "Trial 5 - perfect classification"
   ]
  },
  {
   "cell_type": "markdown",
   "metadata": {},
   "source": [
    "LBG:\n",
    "\n",
    "Trial 3 - perfect classification\n"
   ]
  },
  {
   "cell_type": "markdown",
   "metadata": {},
   "source": [
    "##### Gr(10,200), 6 centers"
   ]
  },
  {
   "cell_type": "markdown",
   "metadata": {},
   "source": [
    "LBG:\n",
    "\n",
    "Trial 1 - perfect classification\n",
    "\n",
    "Trial 2 - perfect classification"
   ]
  },
  {
   "cell_type": "markdown",
   "metadata": {},
   "source": [
    "### IP Corn/Alfalfa"
   ]
  },
  {
   "cell_type": "markdown",
   "metadata": {},
   "source": [
    "##### Gr(5,200), 2 centers"
   ]
  },
  {
   "cell_type": "markdown",
   "metadata": {},
   "source": [
    "K-means:\n",
    "    \n",
    "Trial 1 - perfect classification\n",
    "\n",
    "Trial 2 - perfect classification\n",
    "\n",
    "Trial 3 - perfect classification\n",
    "\n",
    "Trial 4 - perfect classification\n",
    "\n",
    "Trial 5 - perfect classification"
   ]
  },
  {
   "cell_type": "markdown",
   "metadata": {},
   "source": [
    "LBG: \n",
    "\n",
    "Trial 1 - perfect classification\n",
    "\n",
    "Trial 2 - perfect classification\n",
    "\n",
    "Trial 4 - perfect classification\n",
    "\n",
    "Trial 5 - perfect classification\n"
   ]
  },
  {
   "cell_type": "code",
   "execution_count": 37,
   "metadata": {},
   "outputs": [
    {
     "name": "stdout",
     "output_type": "stream",
     "text": [
      "Cluster purity calculations:\n",
      "Average cluster purity: 0.8439 +/- 0.0007 \n",
      "Classification accuracy based on highest probability labels:\n",
      "Accuracy: 0.8393\n",
      "Classification BSR based on highest probability labels:\n",
      "BSR: 0.8439\n"
     ]
    }
   ],
   "source": [
    "# trial 3\n",
    "cmat = np.array([[6, 27],\n",
    "                [3, 20]])\n",
    "c = eval(cmat)"
   ]
  },
  {
   "cell_type": "code",
   "execution_count": 38,
   "metadata": {},
   "outputs": [
    {
     "name": "stdout",
     "output_type": "stream",
     "text": [
      "Cluster purity calculations:\n",
      "Average cluster purity: 0.8449 +/- 0.0061 \n",
      "Classification accuracy based on highest probability labels:\n",
      "Accuracy: 0.8393\n",
      "Classification BSR based on highest probability labels:\n",
      "BSR: 0.8449\n"
     ]
    }
   ],
   "source": [
    "# trial 4\n",
    "cmat = np.array([[2, 24],\n",
    "                [7, 23]])\n",
    "c = eval(cmat)"
   ]
  },
  {
   "cell_type": "markdown",
   "metadata": {},
   "source": [
    "##### Gr(5,200), 4 centers"
   ]
  },
  {
   "cell_type": "markdown",
   "metadata": {},
   "source": [
    "K-means:\n",
    "    \n",
    "Trial 1 - perfect classification\n",
    "\n",
    "Trial 2 - perfect classification\n",
    "\n",
    "Trial 3 - perfect classification\n",
    "\n",
    "Trial 4 - perfect classification\n",
    "\n",
    "Trial 5 - perfect classification"
   ]
  },
  {
   "cell_type": "markdown",
   "metadata": {},
   "source": [
    "\n",
    "LBG: \n",
    "\n",
    "Trial 1 - perfect classification\n",
    "\n",
    "Trial 2 - perfect classification\n",
    "\n",
    "Trial 5 - perfect classification"
   ]
  },
  {
   "cell_type": "code",
   "execution_count": 39,
   "metadata": {},
   "outputs": [
    {
     "name": "stdout",
     "output_type": "stream",
     "text": [
      "Cluster purity calculations:\n",
      "Average cluster purity: 0.8580 +/- 0.0114 \n",
      "Classification accuracy based on highest probability labels:\n",
      "Accuracy: 0.8393\n",
      "Classification BSR based on highest probability labels:\n",
      "BSR: 0.8580\n"
     ]
    }
   ],
   "source": [
    "# trial 3\n",
    "cmat = np.array([[5, 30],\n",
    "                [0, 3],\n",
    "                [1, 7],\n",
    "                [3, 7]])\n",
    "c = eval(cmat)"
   ]
  },
  {
   "cell_type": "code",
   "execution_count": 40,
   "metadata": {},
   "outputs": [
    {
     "name": "stdout",
     "output_type": "stream",
     "text": [
      "Cluster purity calculations:\n",
      "Average cluster purity: 0.8715 +/- 0.0393 \n",
      "Classification accuracy based on highest probability labels:\n",
      "Accuracy: 0.8393\n",
      "Classification BSR based on highest probability labels:\n",
      "BSR: 0.8715\n"
     ]
    }
   ],
   "source": [
    "# trial 4\n",
    "cmat = np.array([[0, 12],\n",
    "                [0, 4],\n",
    "                [1, 22],\n",
    "                [8, 9]])\n",
    "c = eval(cmat)"
   ]
  },
  {
   "cell_type": "markdown",
   "metadata": {},
   "source": [
    "\n",
    "##### Gr(5,200), 6 centers"
   ]
  },
  {
   "cell_type": "markdown",
   "metadata": {},
   "source": [
    "\n",
    "K-means:\n",
    "\n",
    "Trial 1 - perfect classification\n",
    "\n",
    "Trial 2 - perfect classification\n",
    "\n",
    "Trial 3 - perfect classification\n",
    "\n",
    "Trial 4 - perfect classification\n",
    "\n",
    "Trial 5 - perfect classification"
   ]
  },
  {
   "cell_type": "markdown",
   "metadata": {},
   "source": [
    "\n",
    "LBG:\n",
    "\n",
    "Trial 1 - perfect classification\n",
    "\n",
    "Trial 2 - perfect classification\n",
    "\n",
    "Trial 3 - perfect classification\n",
    "\n",
    "Trial 4 - perfect classification\n",
    "\n",
    "Trial 5 - perfect classification"
   ]
  },
  {
   "cell_type": "markdown",
   "metadata": {},
   "source": [
    "\n",
    "##### Gr(10,200), 2 centers"
   ]
  },
  {
   "cell_type": "markdown",
   "metadata": {},
   "source": [
    "K-means:\n",
    "\n",
    "Trial 1 - perfect classification\n",
    "\n",
    "Trial 2 - perfect classification\n",
    "\n",
    "Trial 3 - perfect classification\n",
    "\n",
    "Trial 4 - perfect classification\n",
    "\n",
    "Trial 5 - perfect classification"
   ]
  },
  {
   "cell_type": "markdown",
   "metadata": {},
   "source": [
    "\n",
    "LBG:\n",
    "\n",
    "Trial 1 - perfect classification\n",
    "\n",
    "Trial 4 - perfect classification"
   ]
  },
  {
   "cell_type": "code",
   "execution_count": 41,
   "metadata": {},
   "outputs": [
    {
     "name": "stdout",
     "output_type": "stream",
     "text": [
      "Cluster purity calculations:\n",
      "Average cluster purity: 0.8333 +/- 0.0278 \n",
      "Classification accuracy based on highest probability labels:\n",
      "Accuracy: 0.9259\n",
      "Classification BSR based on highest probability labels:\n",
      "BSR: 0.8333\n"
     ]
    }
   ],
   "source": [
    "# trial 2\n",
    "cmat = np.array([[4, 2],\n",
    "                [0, 21]])\n",
    "c = eval(cmat)"
   ]
  },
  {
   "cell_type": "code",
   "execution_count": 42,
   "metadata": {},
   "outputs": [
    {
     "name": "stdout",
     "output_type": "stream",
     "text": [
      "Cluster purity calculations:\n",
      "Average cluster purity: 0.7500 +/- 0.0625 \n",
      "Classification accuracy based on highest probability labels:\n",
      "Accuracy: 0.8519\n",
      "Classification BSR based on highest probability labels:\n",
      "BSR: 0.7500\n"
     ]
    }
   ],
   "source": [
    "# trial 3\n",
    "cmat = np.array([[4, 4],\n",
    "                [0, 19]])\n",
    "c = eval(cmat)"
   ]
  },
  {
   "cell_type": "code",
   "execution_count": 43,
   "metadata": {},
   "outputs": [
    {
     "name": "stdout",
     "output_type": "stream",
     "text": [
      "Cluster purity calculations:\n",
      "Average cluster purity: 0.9167 +/- 0.0069 \n",
      "Classification accuracy based on highest probability labels:\n",
      "Accuracy: 0.8519\n",
      "Classification BSR based on highest probability labels:\n",
      "BSR: 0.9167\n"
     ]
    }
   ],
   "source": [
    "# trial 5\n",
    "cmat = np.array([[0, 3],\n",
    "                [4, 20]])\n",
    "c = eval(cmat)"
   ]
  },
  {
   "cell_type": "markdown",
   "metadata": {},
   "source": [
    "##### Gr(10,200), 4 centers"
   ]
  },
  {
   "cell_type": "markdown",
   "metadata": {},
   "source": [
    "K-means:\n",
    "\n",
    "Trial 1 - perfect classification\n",
    "\n",
    "Trial 2 - perfect classification\n",
    "\n",
    "Trial 3 - perfect classification\n",
    "\n",
    "Trial 4 - perfect classification\n",
    "\n",
    "Trial 5 - perfect classification"
   ]
  },
  {
   "cell_type": "markdown",
   "metadata": {},
   "source": [
    "LBG:\n",
    "\n",
    "Trial 3 - perfect classification"
   ]
  },
  {
   "cell_type": "code",
   "execution_count": 44,
   "metadata": {},
   "outputs": [
    {
     "name": "stdout",
     "output_type": "stream",
     "text": [
      "Cluster purity calculations:\n",
      "Average cluster purity: 0.9167 +/- 0.0208 \n",
      "Classification accuracy based on highest probability labels:\n",
      "Accuracy: 0.9259\n",
      "Classification BSR based on highest probability labels:\n",
      "BSR: 0.9167\n",
      "Cluster purity calculations:\n",
      "Average cluster purity: 0.9500 +/- 0.0075 \n",
      "Classification accuracy based on highest probability labels:\n",
      "Accuracy: 0.9630\n",
      "Classification BSR based on highest probability labels:\n",
      "BSR: 0.9500\n",
      "Cluster purity calculations:\n",
      "Average cluster purity: 0.8929 +/- 0.0344 \n",
      "Classification accuracy based on highest probability labels:\n",
      "Accuracy: 0.8889\n",
      "Classification BSR based on highest probability labels:\n",
      "BSR: 0.8929\n",
      "Cluster purity calculations:\n",
      "Average cluster purity: 0.7980 +/- 0.0416 \n",
      "Classification accuracy based on highest probability labels:\n",
      "Accuracy: 0.7419\n",
      "Classification BSR based on highest probability labels:\n",
      "BSR: 0.7980\n"
     ]
    }
   ],
   "source": [
    "# trial 1\n",
    "cmat = np.array([[0, 9],\n",
    "                [0, 8],\n",
    "                [4, 2],\n",
    "                [0, 4]])\n",
    "c = eval(cmat)\n",
    "\n",
    "# trial 2\n",
    "cmat = np.array([[0, 8],\n",
    "                [4, 1],\n",
    "                [0, 11],\n",
    "                [0, 3]])\n",
    "c = eval(cmat)\n",
    "\n",
    "# trial 4\n",
    "cmat = np.array([[0, 5],\n",
    "                [0, 1],\n",
    "                [0, 14],\n",
    "                [4, 3]])\n",
    "c = eval(cmat)\n",
    "\n",
    "# trial 5\n",
    "cmat = np.array([[0, 6],\n",
    "                [4, 7],\n",
    "                [0, 5],\n",
    "                [4, 5]])\n",
    "c = eval(cmat)"
   ]
  },
  {
   "cell_type": "markdown",
   "metadata": {},
   "source": [
    "##### Gr(10,200), 6 centers"
   ]
  },
  {
   "cell_type": "markdown",
   "metadata": {},
   "source": [
    "K-means:\n",
    "\n",
    "Trial 1 - perfect classification\n",
    "\n",
    "Trial 2 - perfect classification\n",
    "\n",
    "Trial 3 - perfect classification\n",
    "\n",
    "Trial 4 - perfect classification\n",
    "\n",
    "Trial 5 - perfect classification\n",
    "\n",
    "LBG:\n",
    "\n",
    "Trial 1 - perfect classification\n",
    "\n",
    "Trial 2 - perfect classification"
   ]
  },
  {
   "cell_type": "code",
   "execution_count": 45,
   "metadata": {},
   "outputs": [
    {
     "name": "stdout",
     "output_type": "stream",
     "text": [
      "Cluster purity calculations:\n",
      "Average cluster purity: 0.8889 +/- 0.0247 \n",
      "Classification accuracy based on highest probability labels:\n",
      "Accuracy: 0.8065\n",
      "Classification BSR based on highest probability labels:\n",
      "BSR: 0.8889\n",
      "Cluster purity calculations:\n",
      "Average cluster purity: 0.8778 +/- 0.0302 \n",
      "Classification accuracy based on highest probability labels:\n",
      "Accuracy: 0.8889\n",
      "Classification BSR based on highest probability labels:\n",
      "BSR: 0.8778\n",
      "Cluster purity calculations:\n",
      "Average cluster purity: 0.9444 +/- 0.0154 \n",
      "Classification accuracy based on highest probability labels:\n",
      "Accuracy: 0.9259\n",
      "Classification BSR based on highest probability labels:\n",
      "BSR: 0.9444\n"
     ]
    }
   ],
   "source": [
    "# trial 3\n",
    "cmat = np.array([[4, 2],\n",
    "                [4, 8],\n",
    "                [0, 7],\n",
    "                [0, 2],\n",
    "                [0, 2],\n",
    "                [0, 2]])\n",
    "c = eval(cmat)\n",
    "\n",
    "# trial 4\n",
    "cmat = np.array([[0, 5],\n",
    "                [0, 3],\n",
    "                [0, 9],\n",
    "                [1, 2],\n",
    "                [0, 2],\n",
    "                [3, 2]])\n",
    "c = eval(cmat)\n",
    "\n",
    "# trial 5\n",
    "cmat = np.array([[0, 4],\n",
    "                [0, 8],\n",
    "                [4, 2],\n",
    "                [0, 3],\n",
    "                [0, 1],\n",
    "                [0, 5]])\n",
    "c = eval(cmat)"
   ]
  },
  {
   "cell_type": "markdown",
   "metadata": {},
   "source": [
    "##### Gr(15,200), 2 centers\n",
    "\n",
    "K-means:\n",
    "\n",
    "Trial 1 - perfect classification\n",
    "\n",
    "Trial 2 - perfect classification\n",
    "\n",
    "Trial 3 - perfect classification\n",
    "\n",
    "Trial 4 - perfect classification\n",
    "\n",
    "Trial 5 - perfect classification\n",
    "\n",
    "LBG:\n",
    "\n",
    "Trial 3 - perfect classification\n",
    "\n",
    "Trial 4 - perfect classification"
   ]
  },
  {
   "cell_type": "code",
   "execution_count": 46,
   "metadata": {},
   "outputs": [
    {
     "name": "stdout",
     "output_type": "stream",
     "text": [
      "Cluster purity calculations:\n",
      "Average cluster purity: 0.7500 +/- 0.0625 \n",
      "Classification accuracy based on highest probability labels:\n",
      "Accuracy: 0.8333\n",
      "Classification BSR based on highest probability labels:\n",
      "BSR: 0.7500\n",
      "Cluster purity calculations:\n",
      "Average cluster purity: 0.8750 +/- 0.0156 \n",
      "Classification accuracy based on highest probability labels:\n",
      "Accuracy: 0.9444\n",
      "Classification BSR based on highest probability labels:\n",
      "BSR: 0.8750\n",
      "Cluster purity calculations:\n",
      "Average cluster purity: 0.7667 +/- 0.0544 \n",
      "Classification accuracy based on highest probability labels:\n",
      "Accuracy: 0.6111\n",
      "Classification BSR based on highest probability labels:\n",
      "BSR: 0.7667\n"
     ]
    }
   ],
   "source": [
    "# trial 1\n",
    "cmat = np.array([[0, 12],\n",
    "                [3, 3]])\n",
    "c = eval(cmat)\n",
    "\n",
    "# trial 2\n",
    "cmat = np.array([[0, 14],\n",
    "                [3, 1]])\n",
    "c = eval(cmat)\n",
    "\n",
    "# trial 5\n",
    "cmat = np.array([[0, 3],\n",
    "                [7, 8]])\n",
    "c = eval(cmat)"
   ]
  },
  {
   "cell_type": "markdown",
   "metadata": {},
   "source": [
    "##### Gr(15,200), 4 centers\n",
    "\n",
    "K-means:\n",
    "\n",
    "Trial 1 - perfect classification\n",
    "\n",
    "Trial 2 - perfect classification\n",
    "\n",
    "Trial 3 - perfect classification\n",
    "\n",
    "Trial 4 - perfect classification\n",
    "\n",
    "Trial 5 - perfect classification\n",
    "\n",
    "LBG:\n",
    "\n",
    "Trial 1 - perfect classification\n",
    "\n",
    "Trial 2 - perfect classification\n",
    "\n",
    "Trial 4 - perfect classification\n",
    "\n",
    "Trial 5 - perfect classification"
   ]
  },
  {
   "cell_type": "code",
   "execution_count": 47,
   "metadata": {},
   "outputs": [
    {
     "name": "stdout",
     "output_type": "stream",
     "text": [
      "Cluster purity calculations:\n",
      "Average cluster purity: 0.7750 +/- 0.0519 \n",
      "Classification accuracy based on highest probability labels:\n",
      "Accuracy: 0.8333\n",
      "Classification BSR based on highest probability labels:\n",
      "BSR: 0.7750\n"
     ]
    }
   ],
   "source": [
    "# trial 3\n",
    "cmat = np.array([[0, 2],\n",
    "                [2, 3],\n",
    "                [1, 1],\n",
    "                [0, 9]])\n",
    "c = eval(cmat)"
   ]
  }
 ],
 "metadata": {
  "kernelspec": {
   "display_name": "Python 3",
   "language": "python",
   "name": "python3"
  },
  "language_info": {
   "codemirror_mode": {
    "name": "ipython",
    "version": 3
   },
   "file_extension": ".py",
   "mimetype": "text/x-python",
   "name": "python",
   "nbconvert_exporter": "python",
   "pygments_lexer": "ipython3",
   "version": "3.6.6"
  }
 },
 "nbformat": 4,
 "nbformat_minor": 2
}
